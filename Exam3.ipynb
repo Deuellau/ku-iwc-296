{
 "cells": [
  {
   "cell_type": "code",
   "execution_count": 1,
   "id": "4d4af0ea-3585-478f-97d8-49ddfddf9eed",
   "metadata": {},
   "outputs": [],
   "source": [
    "import pandas as pd\n",
    "import numpy as np\n",
    "import scipy.stats as stats\n",
    "import matplotlib.pyplot as plt\n",
    "import seaborn as sns\n",
    "import statsmodels.api as sm"
   ]
  },
  {
   "cell_type": "markdown",
   "id": "2d5f3e29-16c0-44cd-8275-b2d542b38ef2",
   "metadata": {},
   "source": [
    "#### 1. Complete the ANOVA table. Write all numbers with NO decimal place except p-value. p-value should be written in 5 decimal places."
   ]
  },
  {
   "cell_type": "code",
   "execution_count": 2,
   "id": "f9b51325-dec0-4f7f-b7ec-59c3a0a2abbe",
   "metadata": {},
   "outputs": [
    {
     "data": {
      "text/html": [
       "<div>\n",
       "<style scoped>\n",
       "    .dataframe tbody tr th:only-of-type {\n",
       "        vertical-align: middle;\n",
       "    }\n",
       "\n",
       "    .dataframe tbody tr th {\n",
       "        vertical-align: top;\n",
       "    }\n",
       "\n",
       "    .dataframe thead th {\n",
       "        text-align: right;\n",
       "    }\n",
       "</style>\n",
       "<table border=\"1\" class=\"dataframe\">\n",
       "  <thead>\n",
       "    <tr style=\"text-align: right;\">\n",
       "      <th></th>\n",
       "      <th>Source</th>\n",
       "      <th>SS</th>\n",
       "      <th>deg of freedom</th>\n",
       "      <th>MS</th>\n",
       "      <th>F0</th>\n",
       "      <th>pvalue</th>\n",
       "    </tr>\n",
       "  </thead>\n",
       "  <tbody>\n",
       "    <tr>\n",
       "      <th>0</th>\n",
       "      <td>SSR</td>\n",
       "      <td>692,853.32806</td>\n",
       "      <td>1</td>\n",
       "      <td>692,853.32806</td>\n",
       "      <td>44.84345</td>\n",
       "      <td>0.00015</td>\n",
       "    </tr>\n",
       "    <tr>\n",
       "      <th>1</th>\n",
       "      <td>SSE</td>\n",
       "      <td>123,603.92000</td>\n",
       "      <td>8</td>\n",
       "      <td>15,450.49000</td>\n",
       "      <td></td>\n",
       "      <td></td>\n",
       "    </tr>\n",
       "    <tr>\n",
       "      <th>2</th>\n",
       "      <td>SST</td>\n",
       "      <td>816,457.24806</td>\n",
       "      <td></td>\n",
       "      <td></td>\n",
       "      <td></td>\n",
       "      <td></td>\n",
       "    </tr>\n",
       "  </tbody>\n",
       "</table>\n",
       "</div>"
      ],
      "text/plain": [
       "  Source            SS deg of freedom            MS       F0  pvalue\n",
       "0    SSR 692,853.32806              1 692,853.32806 44.84345 0.00015\n",
       "1    SSE 123,603.92000              8  15,450.49000                 \n",
       "2    SST 816,457.24806                                              "
      ]
     },
     "execution_count": 2,
     "metadata": {},
     "output_type": "execute_result"
    }
   ],
   "source": [
    "n = 10\n",
    "r = -0.9212\n",
    "s = 124.3\n",
    "s2 = 124.3**2\n",
    "SSE = s2*(n-2)\n",
    "SST = -SSE/((r)**2-1)\n",
    "SSR = SST - SSE\n",
    "\n",
    "k = 1\n",
    "df = n - k - 1\n",
    "\n",
    "MSR = SSR/k\n",
    "MSE = SSE/df\n",
    "F0 = MSR/MSE\n",
    "\n",
    "pvalF = 1-stats.f.cdf(F0,k,df)\n",
    "\n",
    "pd.options.display.float_format = '{:,.5f}'.format\n",
    "ANOVA = pd.DataFrame({\n",
    "    'Source': ['SSR', 'SSE', 'SST'],\n",
    "    'SS': [SSR, SSE, SST],\n",
    "    'deg of freedom': [k, df, ''],\n",
    "    'MS': [MSR, MSE, ''],\n",
    "    'F0': [F0, '', ''],\n",
    "    'pvalue': [pvalF, '', '']\n",
    "})\n",
    "ANOVA"
   ]
  },
  {
   "cell_type": "markdown",
   "id": "7a5ad98c-0d79-4fc1-9e79-4ceb6916d6e1",
   "metadata": {},
   "source": [
    "#### 2. Complete the following chart. Write all numbers with ONE decimal place except p-value. p-value should be written in 5 decimal places."
   ]
  },
  {
   "cell_type": "code",
   "execution_count": 3,
   "id": "dc46edcb-6c96-442a-92f5-15c89ee15aeb",
   "metadata": {},
   "outputs": [
    {
     "data": {
      "text/html": [
       "<div>\n",
       "<style scoped>\n",
       "    .dataframe tbody tr th:only-of-type {\n",
       "        vertical-align: middle;\n",
       "    }\n",
       "\n",
       "    .dataframe tbody tr th {\n",
       "        vertical-align: top;\n",
       "    }\n",
       "\n",
       "    .dataframe thead th {\n",
       "        text-align: right;\n",
       "    }\n",
       "</style>\n",
       "<table border=\"1\" class=\"dataframe\">\n",
       "  <thead>\n",
       "    <tr style=\"text-align: right;\">\n",
       "      <th></th>\n",
       "      <th>Parameter</th>\n",
       "      <th>Estimates</th>\n",
       "      <th>s.e.</th>\n",
       "      <th>t-value</th>\n",
       "      <th>p-value</th>\n",
       "      <th>LB95</th>\n",
       "      <th>UB95</th>\n",
       "    </tr>\n",
       "  </thead>\n",
       "  <tbody>\n",
       "    <tr>\n",
       "      <th>0</th>\n",
       "      <td>intercept</td>\n",
       "      <td>2,594.70000</td>\n",
       "      <td>82.08979</td>\n",
       "      <td>31.60807</td>\n",
       "      <td>0.00000</td>\n",
       "      <td>2,405.40060</td>\n",
       "      <td>2,783.99940</td>\n",
       "    </tr>\n",
       "    <tr>\n",
       "      <th>1</th>\n",
       "      <td>slope</td>\n",
       "      <td>-36.16124</td>\n",
       "      <td>5.40000</td>\n",
       "      <td>-6.69653</td>\n",
       "      <td>0.00015</td>\n",
       "      <td>-48.61366</td>\n",
       "      <td>-23.70882</td>\n",
       "    </tr>\n",
       "  </tbody>\n",
       "</table>\n",
       "</div>"
      ],
      "text/plain": [
       "   Parameter   Estimates     s.e.  t-value  p-value        LB95        UB95\n",
       "0  intercept 2,594.70000 82.08979 31.60807  0.00000 2,405.40060 2,783.99940\n",
       "1      slope   -36.16124  5.40000 -6.69653  0.00015   -48.61366   -23.70882"
      ]
     },
     "execution_count": 3,
     "metadata": {},
     "output_type": "execute_result"
    }
   ],
   "source": [
    "sebeta1hat = 5.4\n",
    "beta0hat = 2594.7\n",
    "Sxx = (s/sebeta1hat)**2\n",
    "beta1hat = -np.sqrt(SSR/Sxx)\n",
    "Sxy = beta1hat * Sxx\n",
    "Syy = SST\n",
    "\n",
    "ybar = 21121/n\n",
    "xbar = (beta0hat-ybar)/(-beta1hat)\n",
    "\n",
    "beta1hat = Sxy/Sxx\n",
    "beta0hat = ybar-beta1hat*xbar\n",
    "\n",
    "sebeta1hat = s/np.sqrt(Sxx)\n",
    "sebeta0hat = s*np.sqrt(1/n + xbar**2/Sxx)\n",
    "tbeta1 = beta1hat/sebeta1hat\n",
    "tbeta0 = beta0hat/sebeta0hat\n",
    "\n",
    "pvalue1 = (1-stats.t.cdf(abs(tbeta1), df))*2\n",
    "pvalue0 = (1-stats.t.cdf(abs(tbeta0), df))*2\n",
    "\n",
    "alpha = 0.05\n",
    "UBbeta1 = beta1hat + stats.t(df=df).ppf(1-alpha/2)*sebeta1hat\n",
    "LBbeta1 = beta1hat - stats.t(df=df,).ppf(1-alpha/2)*sebeta1hat\n",
    "UBbeta0 = beta0hat + stats.t(df=df).ppf(1-alpha/2)*sebeta0hat\n",
    "LBbeta0 = beta0hat - stats.t(df=df,).ppf(1-alpha/2)*sebeta0hat\n",
    "\n",
    "paraEst = pd.DataFrame({\n",
    "    'Parameter': ['intercept', 'slope'],\n",
    "    'Estimates': [beta0hat, beta1hat],\n",
    "    's.e.': [sebeta0hat, sebeta1hat],\n",
    "    't-value': [tbeta0, tbeta1],\n",
    "    'p-value': [pvalue0, pvalue1],\n",
    "    'LB95': [LBbeta0, LBbeta1],\n",
    "    'UB95': [UBbeta0, UBbeta1]\n",
    "    \n",
    "})\n",
    "paraEst"
   ]
  },
  {
   "cell_type": "markdown",
   "id": "3f66a27f-56d9-47a7-8d36-033a07f6773e",
   "metadata": {},
   "source": [
    "#### 3. Write the equation for the regression line of above data (one decimal place)."
   ]
  },
  {
   "cell_type": "markdown",
   "id": "12ca8989",
   "metadata": {},
   "source": [
    "$y_i$= 2594.7 - 36.2 $x_i$"
   ]
  },
  {
   "cell_type": "markdown",
   "id": "15e51f86-bc73-4a8c-adef-8ec4b34d8416",
   "metadata": {},
   "source": [
    "#### 4. Find $R^2$ (three decimal place). What is the meaning of the $R^2$ value in the context of the problem?"
   ]
  },
  {
   "cell_type": "code",
   "execution_count": 4,
   "id": "71544ba9-4bd0-4189-993f-8e6560afae3b",
   "metadata": {},
   "outputs": [
    {
     "data": {
      "text/plain": [
       "0.84860944"
      ]
     },
     "execution_count": 4,
     "metadata": {},
     "output_type": "execute_result"
    }
   ],
   "source": [
    "R2 = r**2\n",
    "R2"
   ]
  },
  {
   "cell_type": "markdown",
   "id": "5d434dee",
   "metadata": {},
   "source": [
    "84.9% of the variation of y′s is explained by the regression model."
   ]
  },
  {
   "cell_type": "markdown",
   "id": "528ba962-93f0-48b1-9171-58c4a370ac57",
   "metadata": {},
   "source": [
    "#### 5. Find the residual of the first observation $x_1=15.5,\\,\\,\\,$ $y_1=2158$."
   ]
  },
  {
   "cell_type": "code",
   "execution_count": 5,
   "id": "0482cb23-7b4f-40a3-8736-094ba378c3fb",
   "metadata": {},
   "outputs": [
    {
     "data": {
      "text/plain": [
       "123.79918191856905"
      ]
     },
     "execution_count": 5,
     "metadata": {},
     "output_type": "execute_result"
    }
   ],
   "source": [
    "yihat = beta0hat + beta1hat*(15.5)\n",
    "ei = 2158-yihat\n",
    "ei"
   ]
  },
  {
   "cell_type": "markdown",
   "id": "9efa58cd-46af-4530-892c-d8e380ebd2dc",
   "metadata": {},
   "source": [
    "#### 6. Find the 95% confidence interval for $\\hat\\beta_1$ (one decial place)."
   ]
  },
  {
   "cell_type": "markdown",
   "id": "b6c0dde5",
   "metadata": {},
   "source": [
    "(-48.6, -23.7)"
   ]
  }
 ],
 "metadata": {
  "kernelspec": {
   "display_name": "Python 3 (ipykernel)",
   "language": "python",
   "name": "python3"
  },
  "language_info": {
   "codemirror_mode": {
    "name": "ipython",
    "version": 3
   },
   "file_extension": ".py",
   "mimetype": "text/x-python",
   "name": "python",
   "nbconvert_exporter": "python",
   "pygments_lexer": "ipython3",
   "version": "3.10.9"
  }
 },
 "nbformat": 4,
 "nbformat_minor": 5
}
