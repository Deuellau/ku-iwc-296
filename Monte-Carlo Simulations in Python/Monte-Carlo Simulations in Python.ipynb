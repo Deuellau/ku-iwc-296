{
 "cells": [
  {
   "cell_type": "markdown",
   "id": "e036362d",
   "metadata": {},
   "source": [
    "# Monte-Carlo Simulations in Python"
   ]
  },
  {
   "cell_type": "code",
   "execution_count": 1,
   "id": "40d5df25",
   "metadata": {},
   "outputs": [],
   "source": [
    "import numpy as np\n",
    "import matplotlib.pyplot as plt\n",
    "import math\n",
    "import random"
   ]
  },
  {
   "cell_type": "markdown",
   "id": "0a0b601b",
   "metadata": {},
   "source": [
    "## 1. Estimating Probabilities from Distributions"
   ]
  },
  {
   "cell_type": "markdown",
   "id": "5239d316",
   "metadata": {},
   "source": [
    "We can estimate the probability of a distribution by randomly generating $n$ samples from a given distribution (e.g., normal or gamma). We then apply a specific condition to each sample and count how many satisfy it. The probability is estimated by dividing the count of satisfying samples by $n$. This process is repeated $M$ times to improve accuracy, and the final probability is the average of the results from all iterations. This approach allows us to estimate probabilities through simulation."
   ]
  },
  {
   "cell_type": "markdown",
   "id": "2c4cbe13",
   "metadata": {},
   "source": [
    "$\\normalsize \\text{1.1 Given } X \\sim N(650, 50^2), \\text{ find P} (X<650).$"
   ]
  },
  {
   "cell_type": "code",
   "execution_count": 2,
   "id": "00ba7781",
   "metadata": {},
   "outputs": [
    {
     "name": "stdout",
     "output_type": "stream",
     "text": [
      "P(X<650) = 0.841\n"
     ]
    }
   ],
   "source": [
    "M = 1000\n",
    "n = 10000\n",
    "prob = [0]*M\n",
    "\n",
    "for i in range(M):\n",
    "    x = np.random.normal(600, 50, n)\n",
    "    prob[i] = len(x[x<650])/n\n",
    "    \n",
    "print(f'P(X<650) = {round(np.mean(prob),3)}')"
   ]
  },
  {
   "cell_type": "markdown",
   "id": "ccfd52b4",
   "metadata": {},
   "source": [
    "$\\normalsize \\text{1.2 Given } X \\sim \\Gamma(2, 9), \\text{ find P} (X>22).$"
   ]
  },
  {
   "cell_type": "code",
   "execution_count": 3,
   "id": "5a85e3a5",
   "metadata": {},
   "outputs": [
    {
     "name": "stdout",
     "output_type": "stream",
     "text": [
      "P(X>22) = 0.299\n"
     ]
    }
   ],
   "source": [
    "N = 1000\n",
    "n = 10000\n",
    "prob = [0]*M\n",
    "\n",
    "for i in range(M):\n",
    "    x = np.random.gamma(2,9, n)\n",
    "    prob[i] = len(x[x>22])/n\n",
    "    \n",
    "print(f'P(X>22) = {round(np.mean(prob),3)}')"
   ]
  },
  {
   "cell_type": "markdown",
   "id": "51464cba",
   "metadata": {},
   "source": [
    "$\\normalsize \\text{1.3 Given } X \\sim \\Gamma(2, 9), \\text{ find P} (\\frac{x^2 + 1}{2x + 3}>7).$"
   ]
  },
  {
   "cell_type": "code",
   "execution_count": 4,
   "id": "a2c8cb36",
   "metadata": {},
   "outputs": [
    {
     "name": "stdout",
     "output_type": "stream",
     "text": [
      "P((x^2 + 1)/(2x + 3) > 7) = 0.493\n"
     ]
    }
   ],
   "source": [
    "N = 1000\n",
    "n = 10000\n",
    "prob = [0]*M\n",
    "\n",
    "for i in range(M):\n",
    "    x = np.random.gamma(2,9, n)\n",
    "    prob[i] = len(x[((x**2+1)/(2*x+3))>7])/n\n",
    "    \n",
    "print(f'P((x^2 + 1)/(2x + 3) > 7) = {round(np.mean(prob), 3)}')"
   ]
  },
  {
   "cell_type": "markdown",
   "id": "cae7f900",
   "metadata": {},
   "source": [
    "$\\normalsize \\text{1.4 Given } X \\sim N(15, 7) \\text{ and } Y \\sim \\Gamma(3, 10), \\text{ find } P(X > Y).$"
   ]
  },
  {
   "cell_type": "code",
   "execution_count": 5,
   "id": "c5180609",
   "metadata": {},
   "outputs": [
    {
     "name": "stdout",
     "output_type": "stream",
     "text": [
      "P(X>Y) = 0.212\n"
     ]
    }
   ],
   "source": [
    "N = 1000\n",
    "n = 10000\n",
    "prob = [0]*M\n",
    "\n",
    "for i in range(M):\n",
    "    x = np.random.normal(15, 7, n)\n",
    "    y = np.random.gamma(3, 10, n)\n",
    "    prob[i] = len(x[x > y])/n\n",
    "    \n",
    "print(f'P(X>Y) = {round(np.mean(prob),3)}')"
   ]
  },
  {
   "cell_type": "markdown",
   "id": "7967593a",
   "metadata": {},
   "source": [
    "## 2. Estimating Probabilities from PDFs"
   ]
  },
  {
   "cell_type": "markdown",
   "id": "57787ae5",
   "metadata": {},
   "source": [
    "We can estimate the probability from a probability density function (PDF) by using the inverse transform sampling method. First, we generate $n$ random samples from a uniform distribution $U(0,1)$. Then, we apply the inverse cumulative density function $G(x)$ of the given PDF to these samples. The transformed values are drawn from the desired distribution. Next, we apply a specific condition to these transformed samples and calculate the proportion that satisfies the condition. This gives an estimate of the desired probability."
   ]
  },
  {
   "cell_type": "markdown",
   "id": "c643362a",
   "metadata": {},
   "source": [
    "$\n",
    "\\text{E.g., To simulate Pr} (X< N): \\\\\n",
    "\\bullet \\ \\text{ Generate }w_1,...,w_n\\sim U(0,1) \\\\\n",
    "\\bullet \\text{ Obtain }x_i=G(w_i) \\text{ for } i=1,...,n \\\\\n",
    "\\bullet \\text{ Count }x_i< N, \\text{count}=r \\\\\n",
    "\\bullet \\text{ The estimate Pr}(X< N) = \\frac{r}{n}\n",
    "$"
   ]
  },
  {
   "cell_type": "markdown",
   "id": "ea8a8507",
   "metadata": {},
   "source": [
    "$\n",
    "\\large \\text{2.1 Find P} (X\\le1)\\text{, given that the PDF is }\\\\\n",
    "$\n",
    "$$\n",
    "\\large f(x)=\\frac{3}{8}x^2\\ , \\ 0\\le x\\le 2 \\\\\n",
    "$$"
   ]
  },
  {
   "cell_type": "markdown",
   "id": "fe047117",
   "metadata": {},
   "source": [
    "$\n",
    "\\normalsize \\text{The PDF of } x \\text{ is given by} \\\\\n",
    "$\n",
    "$$\n",
    "\\normalsize f(x)=\\frac{3}{8}x^2\\ , \\ 0\\le x\\le 2 \\\\\n",
    "$$\n",
    "$\n",
    "\\normalsize \\text{Then, the CDF is} \\\\\n",
    "$\n",
    "$$\n",
    "\\normalsize F(x) = \\int_{0}^{x}f(t) \\ dt=\\frac{1}{8}x^3 \\\\\n",
    "$$\n",
    "$\n",
    "\\normalsize \\text{The inverse function of } F(x): G(x)=F^{-1}(x) \\\\\n",
    "$\n",
    "$$\n",
    "\\normalsize G(x)=2x^{\\frac{1}{3}}\n",
    "$$"
   ]
  },
  {
   "cell_type": "code",
   "execution_count": 6,
   "id": "41a07e96",
   "metadata": {},
   "outputs": [
    {
     "name": "stdout",
     "output_type": "stream",
     "text": [
      "P(X<=1) = 0.125\n"
     ]
    }
   ],
   "source": [
    "def G(x):\n",
    "    return 2*x**(1/3)\n",
    "\n",
    "M = 1000\n",
    "n = 10000\n",
    "prob = [0]*M\n",
    "\n",
    "for i in range(M):\n",
    "    w = np.random.uniform(0, 1, n)\n",
    "    x = G(w)\n",
    "    prob[i] = len(x[x<1])/n\n",
    "    \n",
    "\n",
    "print(f'P(X<=1) = {round(np.mean(prob),3)}')"
   ]
  },
  {
   "cell_type": "markdown",
   "id": "e55810b5",
   "metadata": {},
   "source": [
    "$\n",
    "\\large \\text{2.2 Find P} (X\\ge1)\\text{, given that the PDF is }\\\\\n",
    "$\n",
    "$$\n",
    "\\large f(x)=\\frac{1}{2}e^x\\ , \\ \\text{ln}2\\le x\\le \\text{ln}4 \\\\\n",
    "$$"
   ]
  },
  {
   "cell_type": "markdown",
   "id": "92f71391",
   "metadata": {},
   "source": [
    "$\n",
    "\\normalsize \\text{Given the PDF, the CDF is} \\\\\n",
    "$\n",
    "$$\n",
    "\\normalsize F(x) = \\int_{\\text{ln}2}^{x}f(t) \\ dt=\\frac{1}{2}e^x-1 \\\\\n",
    "$$\n",
    "$\n",
    "\\normalsize \\text{The inverse function of } F(x): G(x)=F^{-1}(x) \\\\\n",
    "$\n",
    "$$\n",
    "\\normalsize G(x)=\\text{log}\\bigl(2(x+1)\\bigl)\n",
    "$$"
   ]
  },
  {
   "cell_type": "code",
   "execution_count": 7,
   "id": "25512b5e",
   "metadata": {},
   "outputs": [
    {
     "name": "stdout",
     "output_type": "stream",
     "text": [
      "P(X>=1) = 0.641\n"
     ]
    }
   ],
   "source": [
    "def G(x):\n",
    "    return np.log(2*(x+1))\n",
    "\n",
    "M = 1000\n",
    "n = 10000\n",
    "prob = [0]*M\n",
    "\n",
    "for i in range(M):\n",
    "    w = np.random.uniform(0, 1, n)\n",
    "    x = G(w)\n",
    "    prob[i] = len(x[x>=1])/n\n",
    "    \n",
    "\n",
    "print(f'P(X>=1) = {round(np.mean(prob),3)}')"
   ]
  },
  {
   "cell_type": "markdown",
   "id": "107f050e",
   "metadata": {},
   "source": [
    "$\n",
    "\\large \\text{2.3 Find P} (X\\lt1)\\text{, given that the PDF is }\\\\\n",
    "$\n",
    "$$\n",
    "\\large f(x)=\\text{sin}(2x) \\ ,\\ 0\\le x\\le \\frac{\\pi}{2} \\\\\n",
    "$$"
   ]
  },
  {
   "cell_type": "markdown",
   "id": "fa610bb1",
   "metadata": {},
   "source": [
    "$\n",
    "\\normalsize \\text{Given the PDF, the CDF is} \\\\\n",
    "$\n",
    "$$\n",
    "\\normalsize F(x) = \\int_{0}^{x}f(t) \\ dt= \\frac{1}{2}-\\frac{\\text{cos}(2x)}{2} \\\\\n",
    "$$\n",
    "$\n",
    "\\normalsize \\text{The inverse function of } F(x): G(x)=F^{-1}(x) \\\\\n",
    "$\n",
    "$$\n",
    "\\normalsize G(x)=\\frac{1}{2}\\text{cos}^{-1}(-2x+1)\n",
    "$$"
   ]
  },
  {
   "cell_type": "code",
   "execution_count": 8,
   "id": "fc6c74c1",
   "metadata": {},
   "outputs": [
    {
     "name": "stdout",
     "output_type": "stream",
     "text": [
      "P(X>=1) = 0.708\n"
     ]
    }
   ],
   "source": [
    "def G(x):\n",
    "    return (1/2)*(np.arccos(-2*x+1))\n",
    "\n",
    "M = 1000\n",
    "n = 10000\n",
    "prob = [0]*M\n",
    "\n",
    "for i in range(M):\n",
    "    w = np.random.uniform(0, 1, n)\n",
    "    x = G(w)\n",
    "    prob[i] = len(x[x<=1])/n\n",
    "    \n",
    "\n",
    "print(f'P(X>=1) = {round(np.mean(prob),3)}')"
   ]
  },
  {
   "cell_type": "markdown",
   "id": "af7bcd15",
   "metadata": {},
   "source": [
    "$\n",
    "\\large \\text{2.4 Find P} (X\\gt2)\\text{, given that the PDF is }\\\\\n",
    "$\n",
    "$$\n",
    "\\large f(x)=\\frac{1}{2}e^{-\\frac{1}{2}x} \\ ,\\ 0\\le x\\lt \\infty  \\\\\n",
    "$$"
   ]
  },
  {
   "cell_type": "markdown",
   "id": "e51cc6da",
   "metadata": {},
   "source": [
    "$\n",
    "\\normalsize \\text{Given the PDF, the CDF is} \\\\\n",
    "$\n",
    "$$\n",
    "\\normalsize F(x) = \\int_{0}^{x}f(t) \\ dt= -e^{-\\frac{x}{2}}+1 \\\\\n",
    "$$\n",
    "$\n",
    "\\normalsize \\text{The inverse function of } F(x): G(x)=F^{-1}(x) \\\\\n",
    "$\n",
    "$$\n",
    "\\normalsize G(x)=-2\\text{ln}(1-x)\n",
    "$$"
   ]
  },
  {
   "cell_type": "code",
   "execution_count": 9,
   "id": "86232a82",
   "metadata": {},
   "outputs": [
    {
     "name": "stdout",
     "output_type": "stream",
     "text": [
      "P(X>=1) = 0.368\n"
     ]
    }
   ],
   "source": [
    "def G(x):\n",
    "    return -2*np.log(1-x)\n",
    "\n",
    "M = 1000\n",
    "n = 10000\n",
    "prob = [0]*M\n",
    "\n",
    "for i in range(M):\n",
    "    w = np.random.uniform(0, 1, n)\n",
    "    x = G(w)\n",
    "    prob[i] = len(x[x>2])/n\n",
    "    \n",
    "\n",
    "print(f'P(X>=1) = {round(np.mean(prob),3)}')"
   ]
  },
  {
   "cell_type": "markdown",
   "id": "4a2975e5",
   "metadata": {},
   "source": [
    "$\n",
    "\\large \\text{2.4 Find P} (X\\gt Y)\\text{, given that the PDF is }\\\\\n",
    "$\n",
    "$$\n",
    "\\large X\\sim f_{1}(x)=3x^2 \\ ,\\ 0\\le x\\le 1 \\\\\n",
    "\\large Y\\sim f_{2}(y)=2y \\ ,\\ 0\\le y\\le 1 \\\\\n",
    "$$"
   ]
  },
  {
   "cell_type": "markdown",
   "id": "f6528d6c",
   "metadata": {},
   "source": [
    "$\n",
    "\\normalsize \\text{Given the PDFs, the CDFs are} \\\\\n",
    "$\n",
    "$$\n",
    "\\normalsize F_{1}(x) = \\int_{0}^{x}f_{1}(t) \\ dt= x^3\\\\\n",
    "$$\n",
    "$$\n",
    "\\normalsize F_{2}(y) = \\int_{0}^{y}f_{2}(t) \\ dt= y^2\\\\\n",
    "$$\n",
    "$\n",
    "\\normalsize \\text{The inverse function of } F_{1}(x): G_{1}(x)=F_{1}^{-1}(x) \\\\\n",
    "$\n",
    "$$\n",
    "\\normalsize G_{1}(x)=x^{\\frac{1}{3}}\n",
    "$$\n",
    "$\n",
    "\\normalsize \\text{ and }F_{2}(x): G_{2}(y)=F_{2}^{-1}(y)\\\\\n",
    "$\n",
    "$$\n",
    "\\normalsize G_{2}(y)=\\sqrt{y}\n",
    "$$"
   ]
  },
  {
   "cell_type": "code",
   "execution_count": 10,
   "id": "b27a5aae",
   "metadata": {},
   "outputs": [
    {
     "name": "stdout",
     "output_type": "stream",
     "text": [
      "P(X>Y) = 0.6\n"
     ]
    }
   ],
   "source": [
    "def G1(x):\n",
    "    return x**(1/3)\n",
    "\n",
    "def G2(y):\n",
    "    return np.sqrt(y)\n",
    "\n",
    "M = 1000\n",
    "n = 10000\n",
    "prob = [0]*M\n",
    "\n",
    "for i in range(M):\n",
    "    w1 = np.random.uniform(0, 1, n)\n",
    "    w2 = np.random.uniform(0, 1, n)\n",
    "    x = G1(w1)\n",
    "    y = G2(w2)\n",
    "    prob[i] = len(x[x>y])/n\n",
    "    \n",
    "\n",
    "print(f'P(X>Y) = {round(np.mean(prob),3)}')"
   ]
  },
  {
   "cell_type": "markdown",
   "id": "94c52165",
   "metadata": {},
   "source": [
    "## 3. Monte-Carlo Integration "
   ]
  },
  {
   "cell_type": "markdown",
   "id": "ff692d93",
   "metadata": {},
   "source": [
    "Monte Carlo integration estimates an integral by averaging the function values at $n$ random points uniformly sampled from $[a, b]$, then scaling by $(b-a)$. Repeating this $ M $ times and averaging the results improves accuracy, making it useful for complex or high-dimensional integrals."
   ]
  },
  {
   "cell_type": "markdown",
   "id": "ccd1bd5e",
   "metadata": {},
   "source": [
    "$\n",
    "\\text{Goal: Evaluate the Integral using random sampling}\\\\\n",
    "$\n",
    "$$\n",
    "I = \\int_{a}^{b}f(x)\\ dx \\\\\n",
    "$$\n",
    "$\n",
    "\\text{Suppose we have random samples }X_1, ...,X_n \\text{from a uniform distribution} \\\\\n",
    "$\n",
    "$$\n",
    "X_1, ...,X_n \\sim U(a,b) \\\\\n",
    "$$\n",
    "$\n",
    "\\text{Then, }I \\text{ can be estimated by Monte-Carlo estimator }M_n \\text{, which is defined by} \\\\\n",
    "$\n",
    "$$\n",
    "M_n = \\frac{(b-a)}{n}\\sum_{i=1}^{n}f(X_i) \\\\\n",
    "$$\n",
    "$\n",
    "\\text{as the integral }I \\text{ can be expressed in terms of the expected value}\\\\\n",
    "$\n",
    "$$\n",
    "I = \\int_{a}^{b}f(x) \\ dx = (b-a)\\cdot E[f(x)] \\ \\text{  where  } \\ E[f(x)]\\approx \\frac{1}{n}\\sum_{i=1}^{n}f(x_i) \n",
    "$$"
   ]
  },
  {
   "cell_type": "markdown",
   "id": "8cec79e9",
   "metadata": {},
   "source": [
    "$\n",
    "\\large \\text{3.1 Estimate the function } f(x)=x^2\\text{ for the interval } 1\\le x\\le 3.\\\\\n",
    "$"
   ]
  },
  {
   "cell_type": "code",
   "execution_count": 11,
   "id": "ace32814",
   "metadata": {},
   "outputs": [
    {
     "name": "stdout",
     "output_type": "stream",
     "text": [
      "Estimate of integral = 8.665\n"
     ]
    }
   ],
   "source": [
    "a = 1\n",
    "b = 3\n",
    "\n",
    "M = 1000\n",
    "n = 10000\n",
    "\n",
    "def f(x):\n",
    "    return x**2\n",
    "\n",
    "MCI = [0]*M\n",
    "\n",
    "for i in range(M):\n",
    "    x = np.random.uniform(a, b, n)\n",
    "    expected_value = np.sum(f(x))/n\n",
    "    MCI[i] = (b-a)*expected_value\n",
    "    \n",
    "print(f'Estimate of integral = {round(np.mean(MCI),3)}')"
   ]
  },
  {
   "cell_type": "markdown",
   "id": "0b45cd0f",
   "metadata": {},
   "source": [
    "$\n",
    "\\large \\text{3.2 Given }X\\sim N(10,3^2)\\text{, Find Pr}(X>14) \\\\\n",
    "$"
   ]
  },
  {
   "cell_type": "markdown",
   "id": "1d85d39e",
   "metadata": {},
   "source": [
    "$$\n",
    "\\normalsize \\text{Let }f(x)= \\frac{1}{\\sigma\\sqrt{2\\pi}}e^{-\\frac{1}{2}(\\frac{x-\\mu}{\\sigma})^2}\\\\\n",
    "\\normalsize \\text{Then, }{Pr}(X>14)=\\int_{14}^{\\infty } f(x)dx\\approx \\int_{14}^{20} f(x)dx\n",
    "$$"
   ]
  },
  {
   "cell_type": "code",
   "execution_count": 12,
   "id": "8e2ed122",
   "metadata": {},
   "outputs": [
    {
     "name": "stdout",
     "output_type": "stream",
     "text": [
      "Estimate of integral:  0.0908\n"
     ]
    }
   ],
   "source": [
    "a = 14\n",
    "b = 20\n",
    "\n",
    "M = 1000\n",
    "n = 10000\n",
    "\n",
    "# Normal Distribution\n",
    "m = 10\n",
    "s = 3\n",
    "\n",
    "\n",
    "# Estimating function\n",
    "def f(x, m, s):\n",
    "    return 1/(s*np.sqrt(2*math.pi))*(math.e**(-(((x-m)/s)**2)/2))\n",
    "\n",
    "MCI = [0]*M\n",
    "\n",
    "for i in range(M):\n",
    "    x = np.random.uniform(a, b, n)\n",
    "    expected_value = np.sum(f(x, m, s))/n\n",
    "    MCI[i] = (b-a)*expected_value\n",
    "    \n",
    "print('Estimate of integral: ', round(np.mean(MCI), 4))"
   ]
  },
  {
   "cell_type": "markdown",
   "id": "81f77e13",
   "metadata": {},
   "source": [
    "## Monte-Carlo Problems"
   ]
  },
  {
   "cell_type": "markdown",
   "id": "1a8b5cc9",
   "metadata": {},
   "source": [
    "### Broken Stick Problem"
   ]
  },
  {
   "cell_type": "markdown",
   "id": "0c5fd2af",
   "metadata": {},
   "source": [
    "**Probability to form a triangle**"
   ]
  },
  {
   "cell_type": "code",
   "execution_count": 13,
   "id": "2f9ebf76",
   "metadata": {},
   "outputs": [
    {
     "name": "stdout",
     "output_type": "stream",
     "text": [
      "Probability:  0.25\n"
     ]
    }
   ],
   "source": [
    "N = 1000\n",
    "n = 10000\n",
    "prob = [0]*M\n",
    "\n",
    "for j in range(M):\n",
    "    count = 0 \n",
    "    \n",
    "    for i in range(n):\n",
    "        x = np.random.uniform(0,1)\n",
    "        y = np.random.uniform(0,1)\n",
    "        a = min(x,y)\n",
    "        b = max(x,y)-min(x,y)\n",
    "        c = 1-max(x,y)\n",
    "        \n",
    "        if (a+b)>c and (b+c)>a and (a+c)>b:\n",
    "            count += 1\n",
    "            \n",
    "    prob[j] = count/n\n",
    "    \n",
    "print('Probability: ', round(np.mean(prob), 4))"
   ]
  },
  {
   "cell_type": "markdown",
   "id": "a9fecdd3",
   "metadata": {},
   "source": [
    "**Probability to form an acute triangle**"
   ]
  },
  {
   "cell_type": "code",
   "execution_count": 14,
   "id": "777e1e06",
   "metadata": {},
   "outputs": [
    {
     "name": "stdout",
     "output_type": "stream",
     "text": [
      "Probability:  0.0795\n"
     ]
    }
   ],
   "source": [
    "N = 1000\n",
    "n = 10000\n",
    "prob = [0]*M\n",
    "\n",
    "for j in range(M):\n",
    "    count = 0 \n",
    "    \n",
    "    for i in range(n):\n",
    "        x = np.random.uniform(0,1)\n",
    "        y = np.random.uniform(0,1)\n",
    "        a = min(x,y)\n",
    "        b = max(x,y)-min(x,y)\n",
    "        c = 1-max(x,y)\n",
    "        \n",
    "        if (a**2+b**2)>c**2 and (b**2+c**2)>a**2 and (a**2+c**2)>b**2:\n",
    "            count += 1\n",
    "            \n",
    "    prob[j] = count/n\n",
    "    \n",
    "print('Probability: ', round(np.mean(prob), 4))"
   ]
  },
  {
   "cell_type": "markdown",
   "id": "f9e930ae",
   "metadata": {},
   "source": [
    "**All possible triangle probabilities**"
   ]
  },
  {
   "cell_type": "code",
   "execution_count": 15,
   "id": "01b59c95",
   "metadata": {
    "scrolled": false
   },
   "outputs": [
    {
     "name": "stdout",
     "output_type": "stream",
     "text": [
      "Probability of acute triangles: 0.0794\n",
      "Probability of right triangles: 0.0000\n",
      "Probability of obtuse triangles: 0.1706\n",
      "Total probability (sanity check): 0.2500\n"
     ]
    }
   ],
   "source": [
    "M = 10000\n",
    "n = 10000\n",
    "epsilon = 1e-10\n",
    "\n",
    "prob_acute = [0] * M\n",
    "prob_right = [0] * M\n",
    "prob_obtuse = [0] * M\n",
    "prob_total = [0] * M\n",
    "\n",
    "for j in range(M):\n",
    "    count_acute = 0\n",
    "    count_right = 0\n",
    "    count_obtuse = 0\n",
    "\n",
    "    for i in range(n):\n",
    "        x = np.random.uniform(0, 1)\n",
    "        y = np.random.uniform(0, 1)\n",
    "        a = min(x, y)\n",
    "        b = max(x, y) - min(x, y)\n",
    "        c = 1 - max(x, y)\n",
    "\n",
    "        if (a+b>c) and (b+c>a) and (c+a>b):\n",
    "            \n",
    "            if (a**2 + b**2 > c**2) and (b**2 + c**2 > a**2) and (c**2 + a**2 > b**2):\n",
    "                count_acute += 1\n",
    "                \n",
    "            elif (abs(a**2 + b**2 - c**2) < epsilon\n",
    "                  or abs(b**2 + c**2 - a**2) < epsilon\n",
    "                  or abs(c**2 + a**2 - b**2) < epsilon):\n",
    "                count_right += 1\n",
    "                \n",
    "            else:\n",
    "                count_obtuse += 1\n",
    "\n",
    "    prob_acute[j] = count_acute / n\n",
    "    prob_right[j] = count_right / n\n",
    "    prob_obtuse[j] = count_obtuse / n\n",
    "    prob_total[j] = (count_acute + count_right + count_obtuse) / n\n",
    "\n",
    "# Final probabilities\n",
    "mean_prob_acute = np.mean(prob_acute)\n",
    "mean_prob_right = np.mean(prob_right)\n",
    "mean_prob_obtuse = np.mean(prob_obtuse)\n",
    "mean_prob_total = np.mean(prob_total)\n",
    "\n",
    "print(f\"Probability of acute triangles: {mean_prob_acute:.4f}\")\n",
    "print(f\"Probability of right triangles: {mean_prob_right:.4f}\")\n",
    "print(f\"Probability of obtuse triangles: {mean_prob_obtuse:.4f}\")\n",
    "print(f\"Total probability (sanity check): {mean_prob_total:.4f}\")"
   ]
  },
  {
   "cell_type": "markdown",
   "id": "57ec5691",
   "metadata": {},
   "source": [
    "### Buffon's Needle"
   ]
  },
  {
   "cell_type": "code",
   "execution_count": 16,
   "id": "6cfa2640",
   "metadata": {},
   "outputs": [
    {
     "name": "stdout",
     "output_type": "stream",
     "text": [
      "Mean: 0.318, SD: 0.001\n"
     ]
    },
    {
     "data": {
      "image/png": "[encoded data removed]",
      "text/plain": [
       "<Figure size 640x480 with 1 Axes>"
      ]
     },
     "metadata": {},
     "output_type": "display_data"
    }
   ],
   "source": [
    "M = 10000\n",
    "n = 100000\n",
    "\n",
    "D = 4\n",
    "L = 2\n",
    "\n",
    "prob = [0]*M\n",
    "\n",
    "for i in range(M):\n",
    "    x = np.random.uniform(0, D/2, n)\n",
    "    theta = np.random.uniform(0, math.pi/2, n)\n",
    "\n",
    "    prob[i] = len(x[x<((L/2)*np.sin(theta))])/n\n",
    "    \n",
    "print(f'Mean: {round(np.mean(prob),3)}, SD: {round(np.std(prob),3)}')\n",
    "plt.hist(prob, bins=15, edgecolor='white')\n",
    "plt.show()"
   ]
  },
  {
   "cell_type": "markdown",
   "id": "99cd922e",
   "metadata": {},
   "source": [
    "**Estimating pi**"
   ]
  },
  {
   "cell_type": "code",
   "execution_count": 17,
   "id": "f9396145",
   "metadata": {},
   "outputs": [
    {
     "name": "stdout",
     "output_type": "stream",
     "text": [
      "Estimating pi value: 3.14153\n"
     ]
    }
   ],
   "source": [
    "est_pi = 2*L/(D*np.mean(prob))\n",
    "print(f'Estimating pi value: {round(est_pi,5)}')"
   ]
  },
  {
   "cell_type": "markdown",
   "id": "f6afd795",
   "metadata": {},
   "source": [
    "### Estimating pi"
   ]
  },
  {
   "cell_type": "code",
   "execution_count": 18,
   "id": "324cba86",
   "metadata": {},
   "outputs": [
    {
     "name": "stdout",
     "output_type": "stream",
     "text": [
      "Estimating pi: 3.142232\n"
     ]
    },
    {
     "data": {
      "image/png": "[encoded data removed]",
      "text/plain": [
       "<Figure size 600x600 with 1 Axes>"
      ]
     },
     "metadata": {},
     "output_type": "display_data"
    }
   ],
   "source": [
    "M = 1000\n",
    "n = 10000\n",
    "\n",
    "pi = [0]*M\n",
    "\n",
    "for j in range(M):\n",
    "    x = np.random.uniform(-1, 1, n)\n",
    "    y = np.random.uniform(-1, 1, n)\n",
    "\n",
    "    x1 = [0]*n\n",
    "    y1 = [0]*n\n",
    "\n",
    "    count = 0\n",
    "    for i in range(n):\n",
    "        if (x[i]**2 + y[i]**2 < 1):\n",
    "            count += 1\n",
    "            x1[i], y1[i] = x[i], y[i]\n",
    "            \n",
    "    pi[j] = count / n * 4\n",
    "\n",
    "\n",
    "print(f'Estimating pi: {np.mean(pi)}')\n",
    "\n",
    "plt.figure(figsize=(6,6))\n",
    "plt.scatter(x, y, color='blue')\n",
    "plt.scatter(x1, y1, color='red')\n",
    "plt.show()"
   ]
  },
  {
   "cell_type": "markdown",
   "id": "29405a55",
   "metadata": {},
   "source": [
    "### Monty Hall Problem"
   ]
  },
  {
   "cell_type": "code",
   "execution_count": 19,
   "id": "4e843b63",
   "metadata": {},
   "outputs": [
    {
     "name": "stdout",
     "output_type": "stream",
     "text": [
      "Average probability of winning when switching doors: 0.66655\n"
     ]
    }
   ],
   "source": [
    "M = 100\n",
    "n = 1000\n",
    "\n",
    "prob = [0]*M\n",
    "\n",
    "for i in range(M):\n",
    "    correct = 0\n",
    "    \n",
    "    for j in range(n):\n",
    "        door_w_car = random.randint(1, 3)\n",
    "        door_picked = random.randint(1, 3)\n",
    "\n",
    "        door_choices = [door for door in range(1, 4) if door != door_w_car and door != door_picked]\n",
    "        door_open = random.choice(door_choices)\n",
    "        \n",
    "        new_door_choice = [door for door in range(1, 4) if door != door_picked and door != door_open][0]\n",
    "        \n",
    "        if new_door_choice == door_w_car:\n",
    "            correct += 1\n",
    "    \n",
    "    prob[i] = correct / n\n",
    "\n",
    "print(\"Average probability of winning when switching doors:\", round(sum(prob)/M,5))"
   ]
  }
 ],
 "metadata": {
  "kernelspec": {
   "display_name": "Python 3 (ipykernel)",
   "language": "python",
   "name": "python3"
  },
  "language_info": {
   "codemirror_mode": {
    "name": "ipython",
    "version": 3
   },
   "file_extension": ".py",
   "mimetype": "text/x-python",
   "name": "python",
   "nbconvert_exporter": "python",
   "pygments_lexer": "ipython3",
   "version": "3.10.9"
  }
 },
 "nbformat": 4,
 "nbformat_minor": 5
}
