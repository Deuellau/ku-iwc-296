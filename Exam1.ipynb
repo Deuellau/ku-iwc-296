{
 "cells": [
  {
   "cell_type": "code",
   "execution_count": 1,
   "id": "8ccb568b-bd47-47a2-9f2a-92c0c03d0776",
   "metadata": {},
   "outputs": [],
   "source": [
    "import pandas as pd\n",
    "import numpy as np\n",
    "import math as math\n",
    "import matplotlib.pyplot as plt\n",
    "import seaborn as sns"
   ]
  },
  {
   "cell_type": "markdown",
   "id": "ddbc4e17-5d82-4838-a379-6f8c1b51d00d",
   "metadata": {},
   "source": [
    "### 1. Read 'student_depression.csv'"
   ]
  },
  {
   "cell_type": "code",
   "execution_count": 2,
   "id": "f3f5a77c-337c-4f15-b203-b23be824dcbc",
   "metadata": {},
   "outputs": [
    {
     "data": {
      "text/html": [
       "<div>\n",
       "<style scoped>\n",
       "    .dataframe tbody tr th:only-of-type {\n",
       "        vertical-align: middle;\n",
       "    }\n",
       "\n",
       "    .dataframe tbody tr th {\n",
       "        vertical-align: top;\n",
       "    }\n",
       "\n",
       "    .dataframe thead th {\n",
       "        text-align: right;\n",
       "    }\n",
       "</style>\n",
       "<table border=\"1\" class=\"dataframe\">\n",
       "  <thead>\n",
       "    <tr style=\"text-align: right;\">\n",
       "      <th></th>\n",
       "      <th>id</th>\n",
       "      <th>Gender</th>\n",
       "      <th>Age</th>\n",
       "      <th>GPA</th>\n",
       "      <th>AP</th>\n",
       "      <th>SS</th>\n",
       "      <th>SD</th>\n",
       "      <th>DH</th>\n",
       "      <th>WH</th>\n",
       "      <th>FP</th>\n",
       "      <th>Depression</th>\n",
       "    </tr>\n",
       "  </thead>\n",
       "  <tbody>\n",
       "    <tr>\n",
       "      <th>0</th>\n",
       "      <td>2</td>\n",
       "      <td>Male</td>\n",
       "      <td>33</td>\n",
       "      <td>8.97</td>\n",
       "      <td>5</td>\n",
       "      <td>2</td>\n",
       "      <td>5-6 hours</td>\n",
       "      <td>Healthy</td>\n",
       "      <td>3</td>\n",
       "      <td>1</td>\n",
       "      <td>1</td>\n",
       "    </tr>\n",
       "    <tr>\n",
       "      <th>1</th>\n",
       "      <td>8</td>\n",
       "      <td>Female</td>\n",
       "      <td>24</td>\n",
       "      <td>5.90</td>\n",
       "      <td>2</td>\n",
       "      <td>5</td>\n",
       "      <td>5-6 hours</td>\n",
       "      <td>Moderate</td>\n",
       "      <td>3</td>\n",
       "      <td>2</td>\n",
       "      <td>0</td>\n",
       "    </tr>\n",
       "    <tr>\n",
       "      <th>2</th>\n",
       "      <td>26</td>\n",
       "      <td>Male</td>\n",
       "      <td>31</td>\n",
       "      <td>7.03</td>\n",
       "      <td>3</td>\n",
       "      <td>5</td>\n",
       "      <td>Less than 5 hours</td>\n",
       "      <td>Healthy</td>\n",
       "      <td>9</td>\n",
       "      <td>1</td>\n",
       "      <td>0</td>\n",
       "    </tr>\n",
       "    <tr>\n",
       "      <th>3</th>\n",
       "      <td>30</td>\n",
       "      <td>Female</td>\n",
       "      <td>28</td>\n",
       "      <td>5.59</td>\n",
       "      <td>3</td>\n",
       "      <td>2</td>\n",
       "      <td>7-8 hours</td>\n",
       "      <td>Moderate</td>\n",
       "      <td>4</td>\n",
       "      <td>5</td>\n",
       "      <td>1</td>\n",
       "    </tr>\n",
       "    <tr>\n",
       "      <th>4</th>\n",
       "      <td>32</td>\n",
       "      <td>Female</td>\n",
       "      <td>25</td>\n",
       "      <td>8.13</td>\n",
       "      <td>4</td>\n",
       "      <td>3</td>\n",
       "      <td>5-6 hours</td>\n",
       "      <td>Moderate</td>\n",
       "      <td>1</td>\n",
       "      <td>1</td>\n",
       "      <td>0</td>\n",
       "    </tr>\n",
       "  </tbody>\n",
       "</table>\n",
       "</div>"
      ],
      "text/plain": [
       "   id  Gender  Age   GPA  AP  SS                 SD        DH  WH  FP  \\\n",
       "0   2    Male   33  8.97   5   2          5-6 hours   Healthy   3   1   \n",
       "1   8  Female   24  5.90   2   5          5-6 hours  Moderate   3   2   \n",
       "2  26    Male   31  7.03   3   5  Less than 5 hours   Healthy   9   1   \n",
       "3  30  Female   28  5.59   3   2          7-8 hours  Moderate   4   5   \n",
       "4  32  Female   25  8.13   4   3          5-6 hours  Moderate   1   1   \n",
       "\n",
       "   Depression  \n",
       "0           1  \n",
       "1           0  \n",
       "2           0  \n",
       "3           1  \n",
       "4           0  "
      ]
     },
     "execution_count": 2,
     "metadata": {},
     "output_type": "execute_result"
    }
   ],
   "source": [
    "df = pd.read_csv('student_depression.csv')\n",
    "df.head()"
   ]
  },
  {
   "cell_type": "markdown",
   "id": "0a7abc99-a308-463b-b9ea-7bfabc28f329",
   "metadata": {},
   "source": [
    "### 2. Findthe number of observations and the number of variables"
   ]
  },
  {
   "cell_type": "code",
   "execution_count": 3,
   "id": "ccde1e02-d21f-4ed7-b43d-69b366aa3889",
   "metadata": {},
   "outputs": [
    {
     "data": {
      "text/plain": [
       "(250, 11)"
      ]
     },
     "execution_count": 3,
     "metadata": {},
     "output_type": "execute_result"
    }
   ],
   "source": [
    "df.shape"
   ]
  },
  {
   "cell_type": "markdown",
   "id": "214a0388",
   "metadata": {},
   "source": [
    "observations: 250, variables: 11"
   ]
  },
  {
   "cell_type": "markdown",
   "id": "2c62cf42-a2ed-4f53-bad9-7bc747088664",
   "metadata": {},
   "source": [
    "### 3. Find the mean and standard deviation of GPA "
   ]
  },
  {
   "cell_type": "code",
   "execution_count": 4,
   "id": "ed6e9ff5-a328-47e9-9dda-0624946ab284",
   "metadata": {},
   "outputs": [
    {
     "data": {
      "text/html": [
       "<div>\n",
       "<style scoped>\n",
       "    .dataframe tbody tr th:only-of-type {\n",
       "        vertical-align: middle;\n",
       "    }\n",
       "\n",
       "    .dataframe tbody tr th {\n",
       "        vertical-align: top;\n",
       "    }\n",
       "\n",
       "    .dataframe thead th {\n",
       "        text-align: right;\n",
       "    }\n",
       "</style>\n",
       "<table border=\"1\" class=\"dataframe\">\n",
       "  <thead>\n",
       "    <tr style=\"text-align: right;\">\n",
       "      <th></th>\n",
       "      <th>id</th>\n",
       "      <th>Age</th>\n",
       "      <th>GPA</th>\n",
       "      <th>AP</th>\n",
       "      <th>SS</th>\n",
       "      <th>WH</th>\n",
       "      <th>FP</th>\n",
       "      <th>Depression</th>\n",
       "    </tr>\n",
       "  </thead>\n",
       "  <tbody>\n",
       "    <tr>\n",
       "      <th>count</th>\n",
       "      <td>250.000000</td>\n",
       "      <td>250.000000</td>\n",
       "      <td>250.000000</td>\n",
       "      <td>250.000000</td>\n",
       "      <td>250.00000</td>\n",
       "      <td>250.000000</td>\n",
       "      <td>250.00000</td>\n",
       "      <td>250.000000</td>\n",
       "    </tr>\n",
       "    <tr>\n",
       "      <th>mean</th>\n",
       "      <td>640.560000</td>\n",
       "      <td>25.576000</td>\n",
       "      <td>7.635040</td>\n",
       "      <td>3.024000</td>\n",
       "      <td>2.92800</td>\n",
       "      <td>7.064000</td>\n",
       "      <td>3.06000</td>\n",
       "      <td>0.564000</td>\n",
       "    </tr>\n",
       "    <tr>\n",
       "      <th>std</th>\n",
       "      <td>329.117584</td>\n",
       "      <td>5.030452</td>\n",
       "      <td>1.465388</td>\n",
       "      <td>1.436551</td>\n",
       "      <td>1.38074</td>\n",
       "      <td>3.768915</td>\n",
       "      <td>1.46183</td>\n",
       "      <td>0.496882</td>\n",
       "    </tr>\n",
       "    <tr>\n",
       "      <th>min</th>\n",
       "      <td>2.000000</td>\n",
       "      <td>18.000000</td>\n",
       "      <td>5.110000</td>\n",
       "      <td>1.000000</td>\n",
       "      <td>1.00000</td>\n",
       "      <td>0.000000</td>\n",
       "      <td>1.00000</td>\n",
       "      <td>0.000000</td>\n",
       "    </tr>\n",
       "    <tr>\n",
       "      <th>25%</th>\n",
       "      <td>367.750000</td>\n",
       "      <td>21.000000</td>\n",
       "      <td>6.195000</td>\n",
       "      <td>2.000000</td>\n",
       "      <td>2.00000</td>\n",
       "      <td>4.000000</td>\n",
       "      <td>2.00000</td>\n",
       "      <td>0.000000</td>\n",
       "    </tr>\n",
       "    <tr>\n",
       "      <th>50%</th>\n",
       "      <td>672.000000</td>\n",
       "      <td>25.000000</td>\n",
       "      <td>7.830000</td>\n",
       "      <td>3.000000</td>\n",
       "      <td>3.00000</td>\n",
       "      <td>8.000000</td>\n",
       "      <td>3.00000</td>\n",
       "      <td>1.000000</td>\n",
       "    </tr>\n",
       "    <tr>\n",
       "      <th>75%</th>\n",
       "      <td>904.500000</td>\n",
       "      <td>30.000000</td>\n",
       "      <td>8.917500</td>\n",
       "      <td>4.000000</td>\n",
       "      <td>4.00000</td>\n",
       "      <td>10.000000</td>\n",
       "      <td>4.00000</td>\n",
       "      <td>1.000000</td>\n",
       "    </tr>\n",
       "    <tr>\n",
       "      <th>max</th>\n",
       "      <td>1221.000000</td>\n",
       "      <td>39.000000</td>\n",
       "      <td>9.960000</td>\n",
       "      <td>5.000000</td>\n",
       "      <td>5.00000</td>\n",
       "      <td>12.000000</td>\n",
       "      <td>5.00000</td>\n",
       "      <td>1.000000</td>\n",
       "    </tr>\n",
       "  </tbody>\n",
       "</table>\n",
       "</div>"
      ],
      "text/plain": [
       "                id         Age         GPA          AP         SS          WH  \\\n",
       "count   250.000000  250.000000  250.000000  250.000000  250.00000  250.000000   \n",
       "mean    640.560000   25.576000    7.635040    3.024000    2.92800    7.064000   \n",
       "std     329.117584    5.030452    1.465388    1.436551    1.38074    3.768915   \n",
       "min       2.000000   18.000000    5.110000    1.000000    1.00000    0.000000   \n",
       "25%     367.750000   21.000000    6.195000    2.000000    2.00000    4.000000   \n",
       "50%     672.000000   25.000000    7.830000    3.000000    3.00000    8.000000   \n",
       "75%     904.500000   30.000000    8.917500    4.000000    4.00000   10.000000   \n",
       "max    1221.000000   39.000000    9.960000    5.000000    5.00000   12.000000   \n",
       "\n",
       "              FP  Depression  \n",
       "count  250.00000  250.000000  \n",
       "mean     3.06000    0.564000  \n",
       "std      1.46183    0.496882  \n",
       "min      1.00000    0.000000  \n",
       "25%      2.00000    0.000000  \n",
       "50%      3.00000    1.000000  \n",
       "75%      4.00000    1.000000  \n",
       "max      5.00000    1.000000  "
      ]
     },
     "execution_count": 4,
     "metadata": {},
     "output_type": "execute_result"
    }
   ],
   "source": [
    "df.describe()"
   ]
  },
  {
   "cell_type": "markdown",
   "id": "797e9a38",
   "metadata": {},
   "source": [
    "GPA mean: 7.64, std: 1.47"
   ]
  },
  {
   "cell_type": "markdown",
   "id": "2284964d-a968-4516-b7a1-768395d5cf03",
   "metadata": {},
   "source": [
    "### 4. Five number summary for WH"
   ]
  },
  {
   "cell_type": "markdown",
   "id": "109e49ff",
   "metadata": {},
   "source": [
    "Min: 0 <br>\n",
    "Q1: 4 <br>\n",
    "Q2: 8 <br>\n",
    "Q3: 10 <br>\n",
    "Max: 12"
   ]
  },
  {
   "cell_type": "markdown",
   "id": "af897db0-00be-4d37-b537-3c2fea583631",
   "metadata": {},
   "source": [
    "## 5. Find the number of male and female students"
   ]
  },
  {
   "cell_type": "code",
   "execution_count": 5,
   "id": "63545839-58a4-4507-bed2-f6967d455c7c",
   "metadata": {},
   "outputs": [
    {
     "data": {
      "text/html": [
       "<div>\n",
       "<style scoped>\n",
       "    .dataframe tbody tr th:only-of-type {\n",
       "        vertical-align: middle;\n",
       "    }\n",
       "\n",
       "    .dataframe tbody tr th {\n",
       "        vertical-align: top;\n",
       "    }\n",
       "\n",
       "    .dataframe thead th {\n",
       "        text-align: right;\n",
       "    }\n",
       "</style>\n",
       "<table border=\"1\" class=\"dataframe\">\n",
       "  <thead>\n",
       "    <tr style=\"text-align: right;\">\n",
       "      <th>col_0</th>\n",
       "      <th>freq</th>\n",
       "    </tr>\n",
       "    <tr>\n",
       "      <th>Gender</th>\n",
       "      <th></th>\n",
       "    </tr>\n",
       "  </thead>\n",
       "  <tbody>\n",
       "    <tr>\n",
       "      <th>Female</th>\n",
       "      <td>110</td>\n",
       "    </tr>\n",
       "    <tr>\n",
       "      <th>Male</th>\n",
       "      <td>140</td>\n",
       "    </tr>\n",
       "  </tbody>\n",
       "</table>\n",
       "</div>"
      ],
      "text/plain": [
       "col_0   freq\n",
       "Gender      \n",
       "Female   110\n",
       "Male     140"
      ]
     },
     "execution_count": 5,
     "metadata": {},
     "output_type": "execute_result"
    }
   ],
   "source": [
    "pd.crosstab(df['Gender'], 'freq')"
   ]
  },
  {
   "cell_type": "markdown",
   "id": "3f102928",
   "metadata": {},
   "source": [
    "Male: 140, Female: 110"
   ]
  },
  {
   "cell_type": "markdown",
   "id": "b6556520-7e0f-4842-af93-1d414b2b9062",
   "metadata": {},
   "source": [
    "### 6. Find a Frequency Table for Gender and DH with margin"
   ]
  },
  {
   "cell_type": "code",
   "execution_count": 6,
   "id": "dd244ef1-2fd7-4a65-a3cb-9bc2f83b7627",
   "metadata": {},
   "outputs": [
    {
     "data": {
      "text/html": [
       "<div>\n",
       "<style scoped>\n",
       "    .dataframe tbody tr th:only-of-type {\n",
       "        vertical-align: middle;\n",
       "    }\n",
       "\n",
       "    .dataframe tbody tr th {\n",
       "        vertical-align: top;\n",
       "    }\n",
       "\n",
       "    .dataframe thead th {\n",
       "        text-align: right;\n",
       "    }\n",
       "</style>\n",
       "<table border=\"1\" class=\"dataframe\">\n",
       "  <thead>\n",
       "    <tr style=\"text-align: right;\">\n",
       "      <th>DH</th>\n",
       "      <th>Healthy</th>\n",
       "      <th>Moderate</th>\n",
       "      <th>Unhealthy</th>\n",
       "      <th>All</th>\n",
       "    </tr>\n",
       "    <tr>\n",
       "      <th>Gender</th>\n",
       "      <th></th>\n",
       "      <th></th>\n",
       "      <th></th>\n",
       "      <th></th>\n",
       "    </tr>\n",
       "  </thead>\n",
       "  <tbody>\n",
       "    <tr>\n",
       "      <th>Female</th>\n",
       "      <td>31</td>\n",
       "      <td>41</td>\n",
       "      <td>38</td>\n",
       "      <td>110</td>\n",
       "    </tr>\n",
       "    <tr>\n",
       "      <th>Male</th>\n",
       "      <td>35</td>\n",
       "      <td>50</td>\n",
       "      <td>55</td>\n",
       "      <td>140</td>\n",
       "    </tr>\n",
       "    <tr>\n",
       "      <th>All</th>\n",
       "      <td>66</td>\n",
       "      <td>91</td>\n",
       "      <td>93</td>\n",
       "      <td>250</td>\n",
       "    </tr>\n",
       "  </tbody>\n",
       "</table>\n",
       "</div>"
      ],
      "text/plain": [
       "DH      Healthy  Moderate  Unhealthy  All\n",
       "Gender                                   \n",
       "Female       31        41         38  110\n",
       "Male         35        50         55  140\n",
       "All          66        91         93  250"
      ]
     },
     "execution_count": 6,
     "metadata": {},
     "output_type": "execute_result"
    }
   ],
   "source": [
    "pd.crosstab(df['Gender'], df['DH'], margins=True)"
   ]
  },
  {
   "cell_type": "markdown",
   "id": "246fbc2f-e3fb-4fd5-8792-3adc9a533608",
   "metadata": {},
   "source": [
    "### 7. Find observations with Age>33 and AP=4"
   ]
  },
  {
   "cell_type": "code",
   "execution_count": 7,
   "id": "d656f215-8dd8-4b03-a852-4c01ad4ef329",
   "metadata": {},
   "outputs": [
    {
     "data": {
      "text/html": [
       "<div>\n",
       "<style scoped>\n",
       "    .dataframe tbody tr th:only-of-type {\n",
       "        vertical-align: middle;\n",
       "    }\n",
       "\n",
       "    .dataframe tbody tr th {\n",
       "        vertical-align: top;\n",
       "    }\n",
       "\n",
       "    .dataframe thead th {\n",
       "        text-align: right;\n",
       "    }\n",
       "</style>\n",
       "<table border=\"1\" class=\"dataframe\">\n",
       "  <thead>\n",
       "    <tr style=\"text-align: right;\">\n",
       "      <th></th>\n",
       "      <th>id</th>\n",
       "      <th>Gender</th>\n",
       "      <th>Age</th>\n",
       "      <th>GPA</th>\n",
       "      <th>AP</th>\n",
       "      <th>SS</th>\n",
       "      <th>SD</th>\n",
       "      <th>DH</th>\n",
       "      <th>WH</th>\n",
       "      <th>FP</th>\n",
       "      <th>Depression</th>\n",
       "    </tr>\n",
       "  </thead>\n",
       "  <tbody>\n",
       "    <tr>\n",
       "      <th>157</th>\n",
       "      <td>770</td>\n",
       "      <td>Male</td>\n",
       "      <td>34</td>\n",
       "      <td>7.94</td>\n",
       "      <td>4</td>\n",
       "      <td>3</td>\n",
       "      <td>5-6 hours</td>\n",
       "      <td>Moderate</td>\n",
       "      <td>12</td>\n",
       "      <td>1</td>\n",
       "      <td>0</td>\n",
       "    </tr>\n",
       "  </tbody>\n",
       "</table>\n",
       "</div>"
      ],
      "text/plain": [
       "      id Gender  Age   GPA  AP  SS         SD        DH  WH  FP  Depression\n",
       "157  770   Male   34  7.94   4   3  5-6 hours  Moderate  12   1           0"
      ]
     },
     "execution_count": 7,
     "metadata": {},
     "output_type": "execute_result"
    }
   ],
   "source": [
    "df[(df['Age']>33) & (df['AP']==4)]"
   ]
  },
  {
   "cell_type": "markdown",
   "id": "ec00d6f5-a89f-49f1-ac4b-47787f76c3af",
   "metadata": {},
   "source": [
    "### 8. How many students suffer from \"Depression\"? "
   ]
  },
  {
   "cell_type": "code",
   "execution_count": 8,
   "id": "d9720cff-424c-4ccf-b86c-bb44befe47b0",
   "metadata": {},
   "outputs": [
    {
     "data": {
      "text/plain": [
       "Depression\n",
       "1    141\n",
       "0    109\n",
       "Name: count, dtype: int64"
      ]
     },
     "execution_count": 8,
     "metadata": {},
     "output_type": "execute_result"
    }
   ],
   "source": [
    "df['Depression'].value_counts()"
   ]
  },
  {
   "cell_type": "markdown",
   "id": "9155bc73",
   "metadata": {},
   "source": [
    "141 students suffer from 'depression'"
   ]
  },
  {
   "cell_type": "markdown",
   "id": "e3cf3ca5-e9d2-444c-8d2c-45e324206ad0",
   "metadata": {},
   "source": [
    "### 9. Make a new variable \"avg\", which is the average of AP and FP"
   ]
  },
  {
   "cell_type": "code",
   "execution_count": 9,
   "id": "0e3112d5-5adc-4144-ad0e-90ece3fa8dbf",
   "metadata": {},
   "outputs": [
    {
     "data": {
      "text/html": [
       "<div>\n",
       "<style scoped>\n",
       "    .dataframe tbody tr th:only-of-type {\n",
       "        vertical-align: middle;\n",
       "    }\n",
       "\n",
       "    .dataframe tbody tr th {\n",
       "        vertical-align: top;\n",
       "    }\n",
       "\n",
       "    .dataframe thead th {\n",
       "        text-align: right;\n",
       "    }\n",
       "</style>\n",
       "<table border=\"1\" class=\"dataframe\">\n",
       "  <thead>\n",
       "    <tr style=\"text-align: right;\">\n",
       "      <th></th>\n",
       "      <th>id</th>\n",
       "      <th>Gender</th>\n",
       "      <th>Age</th>\n",
       "      <th>GPA</th>\n",
       "      <th>AP</th>\n",
       "      <th>SS</th>\n",
       "      <th>SD</th>\n",
       "      <th>DH</th>\n",
       "      <th>WH</th>\n",
       "      <th>FP</th>\n",
       "      <th>Depression</th>\n",
       "      <th>avg</th>\n",
       "    </tr>\n",
       "  </thead>\n",
       "  <tbody>\n",
       "    <tr>\n",
       "      <th>0</th>\n",
       "      <td>2</td>\n",
       "      <td>Male</td>\n",
       "      <td>33</td>\n",
       "      <td>8.97</td>\n",
       "      <td>5</td>\n",
       "      <td>2</td>\n",
       "      <td>5-6 hours</td>\n",
       "      <td>Healthy</td>\n",
       "      <td>3</td>\n",
       "      <td>1</td>\n",
       "      <td>1</td>\n",
       "      <td>3.0</td>\n",
       "    </tr>\n",
       "    <tr>\n",
       "      <th>1</th>\n",
       "      <td>8</td>\n",
       "      <td>Female</td>\n",
       "      <td>24</td>\n",
       "      <td>5.90</td>\n",
       "      <td>2</td>\n",
       "      <td>5</td>\n",
       "      <td>5-6 hours</td>\n",
       "      <td>Moderate</td>\n",
       "      <td>3</td>\n",
       "      <td>2</td>\n",
       "      <td>0</td>\n",
       "      <td>2.0</td>\n",
       "    </tr>\n",
       "    <tr>\n",
       "      <th>2</th>\n",
       "      <td>26</td>\n",
       "      <td>Male</td>\n",
       "      <td>31</td>\n",
       "      <td>7.03</td>\n",
       "      <td>3</td>\n",
       "      <td>5</td>\n",
       "      <td>Less than 5 hours</td>\n",
       "      <td>Healthy</td>\n",
       "      <td>9</td>\n",
       "      <td>1</td>\n",
       "      <td>0</td>\n",
       "      <td>2.0</td>\n",
       "    </tr>\n",
       "    <tr>\n",
       "      <th>3</th>\n",
       "      <td>30</td>\n",
       "      <td>Female</td>\n",
       "      <td>28</td>\n",
       "      <td>5.59</td>\n",
       "      <td>3</td>\n",
       "      <td>2</td>\n",
       "      <td>7-8 hours</td>\n",
       "      <td>Moderate</td>\n",
       "      <td>4</td>\n",
       "      <td>5</td>\n",
       "      <td>1</td>\n",
       "      <td>4.0</td>\n",
       "    </tr>\n",
       "    <tr>\n",
       "      <th>4</th>\n",
       "      <td>32</td>\n",
       "      <td>Female</td>\n",
       "      <td>25</td>\n",
       "      <td>8.13</td>\n",
       "      <td>4</td>\n",
       "      <td>3</td>\n",
       "      <td>5-6 hours</td>\n",
       "      <td>Moderate</td>\n",
       "      <td>1</td>\n",
       "      <td>1</td>\n",
       "      <td>0</td>\n",
       "      <td>2.5</td>\n",
       "    </tr>\n",
       "  </tbody>\n",
       "</table>\n",
       "</div>"
      ],
      "text/plain": [
       "   id  Gender  Age   GPA  AP  SS                 SD        DH  WH  FP  \\\n",
       "0   2    Male   33  8.97   5   2          5-6 hours   Healthy   3   1   \n",
       "1   8  Female   24  5.90   2   5          5-6 hours  Moderate   3   2   \n",
       "2  26    Male   31  7.03   3   5  Less than 5 hours   Healthy   9   1   \n",
       "3  30  Female   28  5.59   3   2          7-8 hours  Moderate   4   5   \n",
       "4  32  Female   25  8.13   4   3          5-6 hours  Moderate   1   1   \n",
       "\n",
       "   Depression  avg  \n",
       "0           1  3.0  \n",
       "1           0  2.0  \n",
       "2           0  2.0  \n",
       "3           1  4.0  \n",
       "4           0  2.5  "
      ]
     },
     "execution_count": 9,
     "metadata": {},
     "output_type": "execute_result"
    }
   ],
   "source": [
    "df['avg'] = df[['AP', 'FP']].mean(axis=1)\n",
    "df.head()"
   ]
  },
  {
   "cell_type": "markdown",
   "id": "367a17e1-a8be-4bd5-86cf-2c7a812a96dc",
   "metadata": {},
   "source": [
    "### 10. Find the 75th, 90th, 95th, and 99th percentiles of GPA"
   ]
  },
  {
   "cell_type": "code",
   "execution_count": 10,
   "id": "498b12bd-155c-46e6-bfb3-e76a1ffe30f6",
   "metadata": {},
   "outputs": [
    {
     "data": {
      "text/plain": [
       "array([8.9175, 9.66  , 9.79  , 9.9402])"
      ]
     },
     "execution_count": 10,
     "metadata": {},
     "output_type": "execute_result"
    }
   ],
   "source": [
    "pct = np.array([75,90,95,99])\n",
    "np.percentile(df['GPA'],pct)"
   ]
  },
  {
   "cell_type": "markdown",
   "id": "f604565b-a8e1-4b8b-8f70-cd07815e5159",
   "metadata": {},
   "source": [
    "### 11. Find median and maximum of WH by Gender"
   ]
  },
  {
   "cell_type": "code",
   "execution_count": 11,
   "id": "6cc1f3a4-f3ff-46c7-9edf-708ddd4a9cbe",
   "metadata": {},
   "outputs": [
    {
     "data": {
      "text/html": [
       "<div>\n",
       "<style scoped>\n",
       "    .dataframe tbody tr th:only-of-type {\n",
       "        vertical-align: middle;\n",
       "    }\n",
       "\n",
       "    .dataframe tbody tr th {\n",
       "        vertical-align: top;\n",
       "    }\n",
       "\n",
       "    .dataframe thead th {\n",
       "        text-align: right;\n",
       "    }\n",
       "</style>\n",
       "<table border=\"1\" class=\"dataframe\">\n",
       "  <thead>\n",
       "    <tr style=\"text-align: right;\">\n",
       "      <th></th>\n",
       "      <th>median</th>\n",
       "      <th>max</th>\n",
       "    </tr>\n",
       "    <tr>\n",
       "      <th>Gender</th>\n",
       "      <th></th>\n",
       "      <th></th>\n",
       "    </tr>\n",
       "  </thead>\n",
       "  <tbody>\n",
       "    <tr>\n",
       "      <th>Female</th>\n",
       "      <td>7.0</td>\n",
       "      <td>12</td>\n",
       "    </tr>\n",
       "    <tr>\n",
       "      <th>Male</th>\n",
       "      <td>8.0</td>\n",
       "      <td>12</td>\n",
       "    </tr>\n",
       "  </tbody>\n",
       "</table>\n",
       "</div>"
      ],
      "text/plain": [
       "        median  max\n",
       "Gender             \n",
       "Female     7.0   12\n",
       "Male       8.0   12"
      ]
     },
     "execution_count": 11,
     "metadata": {},
     "output_type": "execute_result"
    }
   ],
   "source": [
    "df.groupby(\"Gender\")[\"WH\"].agg([\"median\", \"max\"])"
   ]
  },
  {
   "cell_type": "markdown",
   "id": "f4423fa0-3f1c-47eb-b16d-ec9a09f60a95",
   "metadata": {},
   "source": [
    "### 12. Make a histogram of GPA with red color"
   ]
  },
  {
   "cell_type": "code",
   "execution_count": 12,
   "id": "7f107edf-4b16-431f-8066-6f9d4411795a",
   "metadata": {},
   "outputs": [
    {
     "data": {
      "image/png": "[encoded data removed]",
      "text/plain": [
       "<Figure size 500x500 with 1 Axes>"
      ]
     },
     "metadata": {},
     "output_type": "display_data"
    }
   ],
   "source": [
    "sns.displot(df['GPA'], color='red')\n",
    "plt.show()"
   ]
  },
  {
   "cell_type": "markdown",
   "id": "5d6b86b9-f938-40e1-bed1-d6e3e06c8605",
   "metadata": {},
   "source": [
    "### 13. Make a scatterplot for Age(x-axis) and GPA(y-axis) by Depression"
   ]
  },
  {
   "cell_type": "code",
   "execution_count": 13,
   "id": "5534f3ed-af69-4a6c-ad60-25f90b439b8c",
   "metadata": {},
   "outputs": [
    {
     "data": {
      "image/png": "[encoded data removed]",
      "text/plain": [
       "<Figure size 640x480 with 1 Axes>"
      ]
     },
     "metadata": {},
     "output_type": "display_data"
    }
   ],
   "source": [
    "sns.scatterplot(x=df['Age'], y=df['GPA'], hue=df['Depression'])\n",
    "plt.show()"
   ]
  },
  {
   "cell_type": "markdown",
   "id": "c80c7bde-62c6-475c-8a4d-366a6684a82b",
   "metadata": {},
   "source": [
    "### 14. Make boxplots for GPA by DH"
   ]
  },
  {
   "cell_type": "code",
   "execution_count": 14,
   "id": "3a08cd5f-90b2-417e-b4e1-d02e62e31515",
   "metadata": {},
   "outputs": [
    {
     "data": {
      "image/png": "[encoded data removed]",
      "text/plain": [
       "<Figure size 640x480 with 1 Axes>"
      ]
     },
     "metadata": {},
     "output_type": "display_data"
    }
   ],
   "source": [
    "sns.boxplot(x='GPA', data=df, hue='DH')\n",
    "plt.show()"
   ]
  },
  {
   "cell_type": "markdown",
   "id": "1fd2e8ed-6997-47c2-a7f2-72ec3ca13cce",
   "metadata": {},
   "source": [
    "### 15. Make a heatmap of the correlation matrix for AP,FP,WH,and SS"
   ]
  },
  {
   "cell_type": "code",
   "execution_count": 15,
   "id": "d6446ded-cb13-49ca-a0d4-92371d1493dc",
   "metadata": {},
   "outputs": [
    {
     "data": {
      "image/png": "[encoded data removed]",
      "text/plain": [
       "<Figure size 640x480 with 2 Axes>"
      ]
     },
     "metadata": {},
     "output_type": "display_data"
    }
   ],
   "source": [
    "corr = df[['AP','FP','WH','SS']].corr()\n",
    "sns.heatmap(corr, annot=True, cmap='Blues')\n",
    "plt.show()"
   ]
  }
 ],
 "metadata": {
  "kernelspec": {
   "display_name": "Python 3 (ipykernel)",
   "language": "python",
   "name": "python3"
  },
  "language_info": {
   "codemirror_mode": {
    "name": "ipython",
    "version": 3
   },
   "file_extension": ".py",
   "mimetype": "text/x-python",
   "name": "python",
   "nbconvert_exporter": "python",
   "pygments_lexer": "ipython3",
   "version": "3.10.9"
  }
 },
 "nbformat": 4,
 "nbformat_minor": 5
}
