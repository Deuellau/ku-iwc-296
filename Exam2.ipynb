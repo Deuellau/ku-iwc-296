{
 "cells": [
  {
   "cell_type": "code",
   "execution_count": 1,
   "id": "a8aa7d83-19b8-4d41-9f51-f72df2bf3660",
   "metadata": {},
   "outputs": [],
   "source": [
    "import pandas as pd\n",
    "import numpy as np\n",
    "import matplotlib.pyplot as plt\n",
    "import random "
   ]
  },
  {
   "cell_type": "markdown",
   "id": "c472d7af",
   "metadata": {},
   "source": [
    "#### Problem 1."
   ]
  },
  {
   "cell_type": "code",
   "execution_count": 3,
   "id": "6e7c91b7-c64a-419c-a67d-40296e5919a1",
   "metadata": {},
   "outputs": [
    {
     "name": "stdout",
     "output_type": "stream",
     "text": [
      "Question 1(1): pi(500) = 3.139593\n",
      "\n",
      "Question 1(2): |pi - pi(500)| = 0.002\n",
      "Question 1(2): |pi - pi(900)| = 0.001111\n"
     ]
    }
   ],
   "source": [
    "def pi_sum(n):\n",
    "    \n",
    "    res = 0\n",
    "    \n",
    "    for k in range(1, n+1):\n",
    "        \n",
    "        res += (((-1)**(k+1))/(2*k-1))\n",
    "        \n",
    "    return 4 * res\n",
    "\n",
    "print(f'Question 1(1): pi(500) = {round(pi_sum(500),6)}')\n",
    "print('')\n",
    "print(f'Question 1(2): |pi - pi(500)| = {round(abs(np.pi - pi_sum(500)),6)}')\n",
    "print(f'Question 1(2): |pi - pi(900)| = {round(abs(np.pi - pi_sum(900)),6)}')"
   ]
  },
  {
   "cell_type": "markdown",
   "id": "c0225faa",
   "metadata": {},
   "source": [
    "#### Problem 2."
   ]
  },
  {
   "cell_type": "code",
   "execution_count": 5,
   "id": "838f54e6-7e03-4202-8b62-0a76777d0a70",
   "metadata": {},
   "outputs": [
    {
     "name": "stdout",
     "output_type": "stream",
     "text": [
      "iden_triangle(351, 204, 555) = They cannot form a triangle.\n",
      "iden_triangle(15, 13, 14) = They form an acute triangle.\n",
      "iden_triangle(25, 7, 24) = They form a right triangle.\n"
     ]
    }
   ],
   "source": [
    "def iden_triangle(a, b, c):\n",
    "    if (a + b > c) and (b + c > a) and (c + a > b):\n",
    "        \n",
    "        if (a**2 + b**2 > c**2) and (b**2 + c**2 > a**2) and (c**2 + a**2 > b**2):\n",
    "            return 'They form an acute triangle.'\n",
    "            \n",
    "        elif (a**2 + b**2 == c**2) or (b**2 + c**2 == a**2) or (a**2 + c**2 == b**2):\n",
    "            return 'They form a right triangle.'\n",
    "        \n",
    "        else:\n",
    "            return 'They form an obtuse triangle'\n",
    "            \n",
    "    else:\n",
    "        return 'They cannot form a triangle.'\n",
    "    \n",
    "print(f'iden_triangle(351, 204, 555) = {iden_triangle(351, 204, 555)}')\n",
    "print(f'iden_triangle(15, 13, 14) = {iden_triangle(15, 13, 14)}')\n",
    "print(f'iden_triangle(25, 7, 24) = {iden_triangle(25, 7, 24)}')"
   ]
  },
  {
   "cell_type": "markdown",
   "id": "4e6fa1c7",
   "metadata": {},
   "source": [
    "#### Problem 3."
   ]
  },
  {
   "cell_type": "code",
   "execution_count": 7,
   "id": "0c726d38",
   "metadata": {},
   "outputs": [
    {
     "name": "stdout",
     "output_type": "stream",
     "text": [
      "f(-1) = -0.7854\n",
      "Estimate of integral = -0.956\n"
     ]
    },
    {
     "data": {
      "image/png": "[encoded data removed]",
      "text/plain": [
       "<Figure size 640x480 with 1 Axes>"
      ]
     },
     "metadata": {},
     "output_type": "display_data"
    }
   ],
   "source": [
    "def f(x):\n",
    "    return np.arctan(x)\n",
    "\n",
    "print(f'f(-1) = {round(f(-1),4)}')\n",
    "\n",
    "def MCI(a, b):\n",
    "    prob = [0]*M\n",
    "    for i in range(M):\n",
    "        x = np.random.uniform(a, b, n)\n",
    "        expected_value = np.sum(f(x))/n\n",
    "        prob[i] = (b-a)*expected_value\n",
    "        \n",
    "    print(f'Estimate of integral = {round(np.mean(prob),3)}')\n",
    "    \n",
    "    plt.hist(prob, bins=15, edgecolor='white')\n",
    "    plt.show()\n",
    "    \n",
    "    \n",
    "M = 1000\n",
    "n = 100\n",
    "\n",
    "MCI(-2,1)"
   ]
  },
  {
   "cell_type": "markdown",
   "id": "bd28b6d0",
   "metadata": {},
   "source": [
    "#### Problem 4."
   ]
  },
  {
   "cell_type": "code",
   "execution_count": 9,
   "id": "36a506ac-881d-4f1f-8c63-5eaecbdabce7",
   "metadata": {},
   "outputs": [
    {
     "name": "stdout",
     "output_type": "stream",
     "text": [
      "Probability to form an obtuse triangle:  0.1706\n",
      "Probability that triangle area is less than 0.03:  0.1155\n"
     ]
    }
   ],
   "source": [
    "N = 1000\n",
    "n = 1000\n",
    "prob = [0]*M\n",
    "\n",
    "for j in range(M):\n",
    "    count = 0 \n",
    "    \n",
    "    for i in range(n):\n",
    "        x = np.random.uniform(0,1)\n",
    "        y = np.random.uniform(0,1)\n",
    "        a = min(x,y)\n",
    "        b = max(x,y)-min(x,y)\n",
    "        c = 1-max(x,y)\n",
    "        \n",
    "        is_triangle = (a + b > c) and (b + c > a) and (c + a > b)\n",
    "        is_acute = (a**2 + b**2 > c**2) and (b**2 + c**2 > a**2) and (c**2 + a**2 > b**2)\n",
    "        is_right = (a**2 + b**2 == c**2) or (b**2 + c**2 == a**2) or (a**2 + c**2 == b**2)\n",
    "        \n",
    "        if is_triangle and not is_acute and not is_right:\n",
    "            count += 1\n",
    "        \n",
    "            \n",
    "    prob[j] = count / n\n",
    "        \n",
    "    \n",
    "print('Probability to form an obtuse triangle: ', round(np.mean(prob), 4))\n",
    "\n",
    "\n",
    "\n",
    "N = 1000\n",
    "n = 1000\n",
    "prob = [0]*M\n",
    "\n",
    "for j in range(M):\n",
    "    count = 0 \n",
    "    \n",
    "    for i in range(n):\n",
    "        x = np.random.uniform(0,1)\n",
    "        y = np.random.uniform(0,1)\n",
    "        a = min(x,y)\n",
    "        b = max(x,y)-min(x,y)\n",
    "        c = 1-max(x,y)\n",
    "        \n",
    "        s = (a+b+c)/2\n",
    "        \n",
    "        # ensure no negative numbers inside sqrt\n",
    "        if (s-a)<0 or (s-b)<0 or (s-c)<0:\n",
    "            continue\n",
    "        \n",
    "        area = np.sqrt(s*(s-a)*(s-b)*(s-c))\n",
    "        \n",
    "        if area < 0.03:\n",
    "            count += 1\n",
    "         \n",
    "            \n",
    "    prob[j] = count / n\n",
    "        \n",
    "    \n",
    "print('Probability that triangle area is less than 0.03: ', round(np.mean(prob), 4))"
   ]
  },
  {
   "cell_type": "markdown",
   "id": "93913a87",
   "metadata": {},
   "source": [
    "#### Problem 5."
   ]
  },
  {
   "cell_type": "code",
   "execution_count": 11,
   "id": "f617bd4e-a0c6-43ac-b94c-15f883baba84",
   "metadata": {},
   "outputs": [
    {
     "name": "stdout",
     "output_type": "stream",
     "text": [
      "Fvinv(0.54) = 0.2588\n",
      "FwInv(0.83) = 0.9791\n",
      "P(V>2W-1) = 0.6086\n"
     ]
    }
   ],
   "source": [
    "def Fvinv(v):\n",
    "    return (-1/3)*np.log(1-v)\n",
    "\n",
    "def FwInv(w):\n",
    "    return np.arcsin(w)\n",
    "\n",
    "print(f'Fvinv(0.54) = {round(Fvinv(0.54),4)}')\n",
    "print(f'FwInv(0.83) = {round(FwInv(0.83),4)}')\n",
    "\n",
    "\n",
    "M = 1000\n",
    "n = 10000\n",
    "prob = [0]*M\n",
    "\n",
    "for i in range(M):\n",
    "    w1 = np.random.uniform(0, 1, n)\n",
    "    w2 = np.random.uniform(0, 1, n)\n",
    "    V = Fvinv(w1)\n",
    "    W = FwInv(w2)\n",
    "\n",
    "    prob[i] = len(V[V>2*W-1])/n\n",
    "    \n",
    "\n",
    "print(f'P(V>2W-1) = {round(np.mean(prob),4)}')"
   ]
  }
 ],
 "metadata": {
  "kernelspec": {
   "display_name": "Python 3 (ipykernel)",
   "language": "python",
   "name": "python3"
  },
  "language_info": {
   "codemirror_mode": {
    "name": "ipython",
    "version": 3
   },
   "file_extension": ".py",
   "mimetype": "text/x-python",
   "name": "python",
   "nbconvert_exporter": "python",
   "pygments_lexer": "ipython3",
   "version": "3.10.9"
  }
 },
 "nbformat": 4,
 "nbformat_minor": 5
}
